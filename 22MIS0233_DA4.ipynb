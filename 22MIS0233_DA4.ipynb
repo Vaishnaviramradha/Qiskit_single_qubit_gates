{
  "nbformat": 4,
  "nbformat_minor": 0,
  "metadata": {
    "colab": {
      "provenance": []
    },
    "kernelspec": {
      "name": "python3",
      "display_name": "Python 3"
    },
    "language_info": {
      "name": "python"
    }
  },
  "cells": [
    {
      "cell_type": "code",
      "execution_count": 3,
      "metadata": {
        "colab": {
          "base_uri": "https://localhost:8080/"
        },
        "id": "SEr_oAdhCyjh",
        "outputId": "9adbf164-278b-4e96-aa51-7c3517179bf5"
      },
      "outputs": [
        {
          "output_type": "stream",
          "name": "stdout",
          "text": [
            "Collecting qiskit\n",
            "  Downloading qiskit-2.2.1-cp39-abi3-manylinux2014_x86_64.manylinux_2_17_x86_64.whl.metadata (12 kB)\n",
            "Collecting rustworkx>=0.15.0 (from qiskit)\n",
            "  Downloading rustworkx-0.17.1-cp39-abi3-manylinux_2_17_x86_64.manylinux2014_x86_64.whl.metadata (10 kB)\n",
            "Requirement already satisfied: numpy<3,>=1.17 in /usr/local/lib/python3.12/dist-packages (from qiskit) (2.0.2)\n",
            "Requirement already satisfied: scipy>=1.5 in /usr/local/lib/python3.12/dist-packages (from qiskit) (1.16.2)\n",
            "Requirement already satisfied: dill>=0.3 in /usr/local/lib/python3.12/dist-packages (from qiskit) (0.3.8)\n",
            "Collecting stevedore>=3.0.0 (from qiskit)\n",
            "  Downloading stevedore-5.5.0-py3-none-any.whl.metadata (2.2 kB)\n",
            "Requirement already satisfied: typing-extensions in /usr/local/lib/python3.12/dist-packages (from qiskit) (4.15.0)\n",
            "Downloading qiskit-2.2.1-cp39-abi3-manylinux2014_x86_64.manylinux_2_17_x86_64.whl (8.0 MB)\n",
            "\u001b[2K   \u001b[90m━━━━━━━━━━━━━━━━━━━━━━━━━━━━━━━━━━━━━━━━\u001b[0m \u001b[32m8.0/8.0 MB\u001b[0m \u001b[31m72.9 MB/s\u001b[0m eta \u001b[36m0:00:00\u001b[0m\n",
            "\u001b[?25hDownloading rustworkx-0.17.1-cp39-abi3-manylinux_2_17_x86_64.manylinux2014_x86_64.whl (2.2 MB)\n",
            "\u001b[2K   \u001b[90m━━━━━━━━━━━━━━━━━━━━━━━━━━━━━━━━━━━━━━━━\u001b[0m \u001b[32m2.2/2.2 MB\u001b[0m \u001b[31m94.4 MB/s\u001b[0m eta \u001b[36m0:00:00\u001b[0m\n",
            "\u001b[?25hDownloading stevedore-5.5.0-py3-none-any.whl (49 kB)\n",
            "\u001b[2K   \u001b[90m━━━━━━━━━━━━━━━━━━━━━━━━━━━━━━━━━━━━━━━━\u001b[0m \u001b[32m49.5/49.5 kB\u001b[0m \u001b[31m4.3 MB/s\u001b[0m eta \u001b[36m0:00:00\u001b[0m\n",
            "\u001b[?25hInstalling collected packages: stevedore, rustworkx, qiskit\n",
            "Successfully installed qiskit-2.2.1 rustworkx-0.17.1 stevedore-5.5.0\n",
            "Collecting qiskit-aer\n",
            "  Downloading qiskit_aer-0.17.2-cp312-cp312-manylinux_2_17_x86_64.manylinux2014_x86_64.whl.metadata (8.3 kB)\n",
            "Requirement already satisfied: qiskit>=1.1.0 in /usr/local/lib/python3.12/dist-packages (from qiskit-aer) (2.2.1)\n",
            "Requirement already satisfied: numpy>=1.16.3 in /usr/local/lib/python3.12/dist-packages (from qiskit-aer) (2.0.2)\n",
            "Requirement already satisfied: scipy>=1.0 in /usr/local/lib/python3.12/dist-packages (from qiskit-aer) (1.16.2)\n",
            "Requirement already satisfied: psutil>=5 in /usr/local/lib/python3.12/dist-packages (from qiskit-aer) (5.9.5)\n",
            "Requirement already satisfied: python-dateutil>=2.8.0 in /usr/local/lib/python3.12/dist-packages (from qiskit-aer) (2.9.0.post0)\n",
            "Requirement already satisfied: six>=1.5 in /usr/local/lib/python3.12/dist-packages (from python-dateutil>=2.8.0->qiskit-aer) (1.17.0)\n",
            "Requirement already satisfied: rustworkx>=0.15.0 in /usr/local/lib/python3.12/dist-packages (from qiskit>=1.1.0->qiskit-aer) (0.17.1)\n",
            "Requirement already satisfied: dill>=0.3 in /usr/local/lib/python3.12/dist-packages (from qiskit>=1.1.0->qiskit-aer) (0.3.8)\n",
            "Requirement already satisfied: stevedore>=3.0.0 in /usr/local/lib/python3.12/dist-packages (from qiskit>=1.1.0->qiskit-aer) (5.5.0)\n",
            "Requirement already satisfied: typing-extensions in /usr/local/lib/python3.12/dist-packages (from qiskit>=1.1.0->qiskit-aer) (4.15.0)\n",
            "Downloading qiskit_aer-0.17.2-cp312-cp312-manylinux_2_17_x86_64.manylinux2014_x86_64.whl (12.4 MB)\n",
            "\u001b[2K   \u001b[90m━━━━━━━━━━━━━━━━━━━━━━━━━━━━━━━━━━━━━━━━\u001b[0m \u001b[32m12.4/12.4 MB\u001b[0m \u001b[31m88.1 MB/s\u001b[0m eta \u001b[36m0:00:00\u001b[0m\n",
            "\u001b[?25hInstalling collected packages: qiskit-aer\n",
            "Successfully installed qiskit-aer-0.17.2\n",
            "Requirement already satisfied: matplotlib in /usr/local/lib/python3.12/dist-packages (3.10.0)\n",
            "Requirement already satisfied: contourpy>=1.0.1 in /usr/local/lib/python3.12/dist-packages (from matplotlib) (1.3.3)\n",
            "Requirement already satisfied: cycler>=0.10 in /usr/local/lib/python3.12/dist-packages (from matplotlib) (0.12.1)\n",
            "Requirement already satisfied: fonttools>=4.22.0 in /usr/local/lib/python3.12/dist-packages (from matplotlib) (4.60.1)\n",
            "Requirement already satisfied: kiwisolver>=1.3.1 in /usr/local/lib/python3.12/dist-packages (from matplotlib) (1.4.9)\n",
            "Requirement already satisfied: numpy>=1.23 in /usr/local/lib/python3.12/dist-packages (from matplotlib) (2.0.2)\n",
            "Requirement already satisfied: packaging>=20.0 in /usr/local/lib/python3.12/dist-packages (from matplotlib) (25.0)\n",
            "Requirement already satisfied: pillow>=8 in /usr/local/lib/python3.12/dist-packages (from matplotlib) (11.3.0)\n",
            "Requirement already satisfied: pyparsing>=2.3.1 in /usr/local/lib/python3.12/dist-packages (from matplotlib) (3.2.5)\n",
            "Requirement already satisfied: python-dateutil>=2.7 in /usr/local/lib/python3.12/dist-packages (from matplotlib) (2.9.0.post0)\n",
            "Requirement already satisfied: six>=1.5 in /usr/local/lib/python3.12/dist-packages (from python-dateutil>=2.7->matplotlib) (1.17.0)\n"
          ]
        }
      ],
      "source": [
        "!pip install qiskit\n",
        "\n",
        "\n",
        "!pip install qiskit-aer\n",
        "\n",
        "\n",
        "!pip install matplotlib\n"
      ]
    },
    {
      "cell_type": "code",
      "source": [
        "from qiskit import QuantumCircuit, transpile\n",
        "from qiskit_aer import AerSimulator\n",
        "\n",
        "# Initialize simulator\n",
        "sim = AerSimulator()\n",
        "\n",
        "# Create a single-qubit circuit with one classical bit\n",
        "qc = QuantumCircuit(1, 1)\n",
        "\n",
        "# --- Apply sequence of single-qubit gates ---\n",
        "qc.x(0)        # Pauli-X (NOT gate)\n",
        "qc.h(0)        # Hadamard (superposition)\n",
        "qc.s(0)        # Phase gate (π/2)\n",
        "qc.t(0)        # T gate (π/4)\n",
        "qc.rz(0.5, 0)  # Z-axis rotation by 0.5 radians\n",
        "\n",
        "# Measure final state\n",
        "qc.measure_all()\n",
        "\n",
        "# Display circuit\n",
        "print(\"Quantum Circuit:\")\n",
        "print(qc.draw())\n",
        "\n",
        "# --- Run simulation ---\n",
        "compiled = transpile(qc, sim)\n",
        "result = sim.run(compiled, shots=1024).result()\n",
        "\n",
        "# --- Display results ---\n",
        "counts = result.get_counts()\n",
        "print(\"\\nMeasurement Counts:\", counts)"
      ],
      "metadata": {
        "colab": {
          "base_uri": "https://localhost:8080/"
        },
        "id": "uWHBG1JREcaf",
        "outputId": "819c7ca6-e5f6-4eab-debe-a3481670c8cc"
      },
      "execution_count": 5,
      "outputs": [
        {
          "output_type": "stream",
          "name": "stdout",
          "text": [
            "Quantum Circuit:\n",
            "        ┌───┐┌───┐┌───┐┌───┐┌─────────┐ ░ ┌─┐\n",
            "     q: ┤ X ├┤ H ├┤ S ├┤ T ├┤ Rz(0.5) ├─░─┤M├\n",
            "        └───┘└───┘└───┘└───┘└─────────┘ ░ └╥┘\n",
            "   c: 1/═══════════════════════════════════╬═\n",
            "                                           ║ \n",
            "meas: 1/═══════════════════════════════════╩═\n",
            "                                           0 \n",
            "\n",
            "Measurement Counts: {'1 0': 486, '0 0': 538}\n"
          ]
        }
      ]
    },
    {
      "cell_type": "code",
      "source": [
        "!pip install pylatexenc\n"
      ],
      "metadata": {
        "colab": {
          "base_uri": "https://localhost:8080/"
        },
        "id": "_Dv5ad6_EooZ",
        "outputId": "e12e61c3-a94c-463b-8a88-d02fe957a0f2"
      },
      "execution_count": 9,
      "outputs": [
        {
          "output_type": "stream",
          "name": "stdout",
          "text": [
            "Collecting pylatexenc\n",
            "  Downloading pylatexenc-2.10.tar.gz (162 kB)\n",
            "\u001b[?25l     \u001b[90m━━━━━━━━━━━━━━━━━━━━━━━━━━━━━━━━━━━━━━━━\u001b[0m \u001b[32m0.0/162.6 kB\u001b[0m \u001b[31m?\u001b[0m eta \u001b[36m-:--:--\u001b[0m\r\u001b[2K     \u001b[90m━━━━━━━━━━━━━━━━━━━━━━━━━━━━━━━━━━━━━━━\u001b[0m \u001b[32m162.6/162.6 kB\u001b[0m \u001b[31m7.3 MB/s\u001b[0m eta \u001b[36m0:00:00\u001b[0m\n",
            "\u001b[?25h  Preparing metadata (setup.py) ... \u001b[?25l\u001b[?25hdone\n",
            "Building wheels for collected packages: pylatexenc\n",
            "  Building wheel for pylatexenc (setup.py) ... \u001b[?25l\u001b[?25hdone\n",
            "  Created wheel for pylatexenc: filename=pylatexenc-2.10-py3-none-any.whl size=136817 sha256=fa93e0c5491726daeb35f52b6d7f45d0fa13dcef6e27e6e2e3a2d788fec53de8\n",
            "  Stored in directory: /root/.cache/pip/wheels/06/3e/78/fa1588c1ae991bbfd814af2bcac6cef7a178beee1939180d46\n",
            "Successfully built pylatexenc\n",
            "Installing collected packages: pylatexenc\n",
            "Successfully installed pylatexenc-2.10\n"
          ]
        }
      ]
    },
    {
      "cell_type": "code",
      "source": [
        "# Qiskit setup\n",
        "from qiskit import QuantumCircuit, transpile\n",
        "from qiskit_aer import AerSimulator\n",
        "from qiskit.visualization import plot_histogram\n",
        "from qiskit.quantum_info import Statevector\n",
        "from qiskit.visualization import plot_bloch_multivector\n",
        "import matplotlib.pyplot as plt\n",
        "import math\n",
        "\n",
        "# Initialize simulator\n",
        "sim = AerSimulator()\n",
        "\n",
        "# Helper function to run circuit and display outputs\n",
        "def run_circuit(qc, shots=1024, title=\"Circuit\"):\n",
        "    print(f\"\\n=== {title} ===\")\n",
        "    print(\"Circuit Diagram:\")\n",
        "    print(qc.draw(output='text'))  # ASCII diagram\n",
        "\n",
        "    # Run simulation for measurement counts\n",
        "    compiled = transpile(qc, sim)\n",
        "    result = sim.run(compiled, shots=shots).result()\n",
        "    counts = result.get_counts()\n",
        "\n",
        "    # Plot histogram\n",
        "    plot_histogram(counts, title=\"Measurement Counts\")\n",
        "    plt.show()\n",
        "    print(\"Measurement Counts:\", counts)\n",
        "\n",
        "    # Remove measurements for Bloch sphere\n",
        "    qc_no_measure = qc.remove_final_measurements(inplace=False)\n",
        "    state = Statevector(qc_no_measure)\n",
        "    plot_bloch_multivector(state)\n",
        "    plt.show()\n"
      ],
      "metadata": {
        "id": "6vCPHrB1FZN5"
      },
      "execution_count": 17,
      "outputs": []
    },
    {
      "cell_type": "code",
      "source": [
        "qc1 = QuantumCircuit(1,1)\n",
        "qc1.x(0)        # Pauli-X\n",
        "qc1.h(0)        # Hadamard\n",
        "qc1.s(0)        # Phase π/2\n",
        "qc1.t(0)        # Phase π/4\n",
        "qc1.rz(0.5,0)   # Rotation around Z-axis\n",
        "qc1.measure_all()\n",
        "\n",
        "run_circuit(qc1, title=\"Original Circuit\")\n"
      ],
      "metadata": {
        "colab": {
          "base_uri": "https://localhost:8080/"
        },
        "id": "vh2Bp6dMHbO8",
        "outputId": "9461639d-11a3-4c5c-f1d2-7302a2053583"
      },
      "execution_count": 18,
      "outputs": [
        {
          "output_type": "stream",
          "name": "stdout",
          "text": [
            "\n",
            "=== Original Circuit ===\n",
            "Circuit Diagram:\n",
            "        ┌───┐┌───┐┌───┐┌───┐┌─────────┐ ░ ┌─┐\n",
            "     q: ┤ X ├┤ H ├┤ S ├┤ T ├┤ Rz(0.5) ├─░─┤M├\n",
            "        └───┘└───┘└───┘└───┘└─────────┘ ░ └╥┘\n",
            "   c: 1/═══════════════════════════════════╬═\n",
            "                                           ║ \n",
            "meas: 1/═══════════════════════════════════╩═\n",
            "                                           0 \n",
            "Measurement Counts: {'1 0': 519, '0 0': 505}\n"
          ]
        }
      ]
    },
    {
      "cell_type": "code",
      "source": [
        "#Task 1 Change Gate Order\n",
        "qc2 = QuantumCircuit(1,1)\n",
        "qc2.h(0)        # Hadamard first\n",
        "qc2.x(0)        # Pauli-X second\n",
        "qc2.s(0)\n",
        "qc2.t(0)\n",
        "qc2.rz(0.5,0)\n",
        "qc2.measure_all()\n",
        "\n",
        "run_circuit(qc2, title=\"Swap X and H Gates\")\n"
      ],
      "metadata": {
        "colab": {
          "base_uri": "https://localhost:8080/"
        },
        "id": "E2g0rVi2HfbM",
        "outputId": "da63a022-c0c1-4e6c-88cb-179acb09b9d1"
      },
      "execution_count": 19,
      "outputs": [
        {
          "output_type": "stream",
          "name": "stdout",
          "text": [
            "\n",
            "=== Swap X and H Gates ===\n",
            "Circuit Diagram:\n",
            "        ┌───┐┌───┐┌───┐┌───┐┌─────────┐ ░ ┌─┐\n",
            "     q: ┤ H ├┤ X ├┤ S ├┤ T ├┤ Rz(0.5) ├─░─┤M├\n",
            "        └───┘└───┘└───┘└───┘└─────────┘ ░ └╥┘\n",
            "   c: 1/═══════════════════════════════════╬═\n",
            "                                           ║ \n",
            "meas: 1/═══════════════════════════════════╩═\n",
            "                                           0 \n",
            "Measurement Counts: {'0 0': 533, '1 0': 491}\n"
          ]
        }
      ]
    },
    {
      "cell_type": "code",
      "source": [
        "#task 2 Vary Rotation Angle\n",
        "for theta in [math.pi/4, math.pi/2, math.pi]:\n",
        "    qc = QuantumCircuit(1,1)\n",
        "    qc.x(0)\n",
        "    qc.h(0)\n",
        "    qc.s(0)\n",
        "    qc.t(0)\n",
        "    qc.rz(theta,0)\n",
        "    qc.measure_all()\n",
        "    run_circuit(qc, title=f\"RZ Rotation θ={theta:.2f} rad\")\n"
      ],
      "metadata": {
        "colab": {
          "base_uri": "https://localhost:8080/"
        },
        "id": "-wQay-ebHpla",
        "outputId": "1d3b58cf-6e7e-4cd1-d924-3eeaa2225626"
      },
      "execution_count": 20,
      "outputs": [
        {
          "output_type": "stream",
          "name": "stdout",
          "text": [
            "\n",
            "=== RZ Rotation θ=0.79 rad ===\n",
            "Circuit Diagram:\n",
            "        ┌───┐┌───┐┌───┐┌───┐┌─────────┐ ░ ┌─┐\n",
            "     q: ┤ X ├┤ H ├┤ S ├┤ T ├┤ Rz(π/4) ├─░─┤M├\n",
            "        └───┘└───┘└───┘└───┘└─────────┘ ░ └╥┘\n",
            "   c: 1/═══════════════════════════════════╬═\n",
            "                                           ║ \n",
            "meas: 1/═══════════════════════════════════╩═\n",
            "                                           0 \n",
            "Measurement Counts: {'0 0': 538, '1 0': 486}\n",
            "\n",
            "=== RZ Rotation θ=1.57 rad ===\n",
            "Circuit Diagram:\n",
            "        ┌───┐┌───┐┌───┐┌───┐┌─────────┐ ░ ┌─┐\n",
            "     q: ┤ X ├┤ H ├┤ S ├┤ T ├┤ Rz(π/2) ├─░─┤M├\n",
            "        └───┘└───┘└───┘└───┘└─────────┘ ░ └╥┘\n",
            "   c: 1/═══════════════════════════════════╬═\n",
            "                                           ║ \n",
            "meas: 1/═══════════════════════════════════╩═\n",
            "                                           0 \n",
            "Measurement Counts: {'1 0': 519, '0 0': 505}\n",
            "\n",
            "=== RZ Rotation θ=3.14 rad ===\n",
            "Circuit Diagram:\n",
            "        ┌───┐┌───┐┌───┐┌───┐┌───────┐ ░ ┌─┐\n",
            "     q: ┤ X ├┤ H ├┤ S ├┤ T ├┤ Rz(π) ├─░─┤M├\n",
            "        └───┘└───┘└───┘└───┘└───────┘ ░ └╥┘\n",
            "   c: 1/═════════════════════════════════╬═\n",
            "                                         ║ \n",
            "meas: 1/═════════════════════════════════╩═\n",
            "                                         0 \n",
            "Measurement Counts: {'1 0': 492, '0 0': 532}\n"
          ]
        }
      ]
    },
    {
      "cell_type": "code",
      "source": [
        "#task 3 Remove a Gate\n",
        "qc4 = QuantumCircuit(1,1)\n",
        "qc4.x(0)\n",
        "# Hadamard removed\n",
        "qc4.s(0)\n",
        "qc4.t(0)\n",
        "qc4.rz(0.5,0)\n",
        "qc4.measure_all()\n",
        "\n",
        "run_circuit(qc4, title=\"Hadamard Removed\")\n"
      ],
      "metadata": {
        "colab": {
          "base_uri": "https://localhost:8080/"
        },
        "id": "BabVw-xzHtgk",
        "outputId": "b8d91708-5c5f-45c4-b026-71fdae366793"
      },
      "execution_count": 21,
      "outputs": [
        {
          "output_type": "stream",
          "name": "stdout",
          "text": [
            "\n",
            "=== Hadamard Removed ===\n",
            "Circuit Diagram:\n",
            "        ┌───┐┌───┐┌───┐┌─────────┐ ░ ┌─┐\n",
            "     q: ┤ X ├┤ S ├┤ T ├┤ Rz(0.5) ├─░─┤M├\n",
            "        └───┘└───┘└───┘└─────────┘ ░ └╥┘\n",
            "   c: 1/══════════════════════════════╬═\n",
            "                                      ║ \n",
            "meas: 1/══════════════════════════════╩═\n",
            "                                      0 \n",
            "Measurement Counts: {'1 0': 1024}\n"
          ]
        }
      ]
    }
  ]
}